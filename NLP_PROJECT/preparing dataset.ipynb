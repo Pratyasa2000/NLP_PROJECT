{
 "cells": [
  {
   "cell_type": "code",
   "execution_count": 1,
   "id": "bc895c71",
   "metadata": {},
   "outputs": [],
   "source": [
    "# Importing pandas library\n",
    "import pandas as pd"
   ]
  },
  {
   "cell_type": "code",
   "execution_count": 10,
   "id": "1e731de9",
   "metadata": {},
   "outputs": [],
   "source": [
    "# Load the dataset (assuming it's a CSV file named 'dataset.csv')\n",
    "df = pd.read_csv('data/datasets/emotion_dataset.csv')"
   ]
  },
  {
   "cell_type": "code",
   "execution_count": 11,
   "id": "92c8acef",
   "metadata": {},
   "outputs": [
    {
     "name": "stdout",
     "output_type": "stream",
     "text": [
      "First few rows of the dataset:\n",
      "   Emotion                                               Text\n",
      "0  neutral                                             Why ? \n",
      "1      joy    Sage Act upgrade on my to do list for tommorow.\n",
      "2  sadness  ON THE WAY TO MY HOMEGIRL BABY FUNERAL!!! MAN ...\n",
      "3      joy   Such an eye ! The true hazel eye-and so brill...\n",
      "4      joy  @Iluvmiasantos ugh babe.. hugggzzz for u .!  b...\n",
      "\n",
      "Summary of the dataset:\n",
      "<class 'pandas.core.frame.DataFrame'>\n",
      "RangeIndex: 34792 entries, 0 to 34791\n",
      "Data columns (total 2 columns):\n",
      " #   Column   Non-Null Count  Dtype \n",
      "---  ------   --------------  ----- \n",
      " 0   Emotion  34792 non-null  object\n",
      " 1   Text     34792 non-null  object\n",
      "dtypes: object(2)\n",
      "memory usage: 543.8+ KB\n",
      "None\n",
      "\n",
      "Descriptive statistics of the dataset:\n",
      "       Emotion     Text\n",
      "count    34792    34792\n",
      "unique       8    31105\n",
      "top        joy   Yes . \n",
      "freq     11045       76\n",
      "\n",
      "Number of rows and columns:\n",
      "(34792, 2)\n",
      "\n",
      "Columns of the dataset:\n",
      "Index(['Emotion', 'Text'], dtype='object')\n",
      "\n",
      "Data types of columns:\n",
      "Emotion    object\n",
      "Text       object\n",
      "dtype: object\n"
     ]
    }
   ],
   "source": [
    "# Basic exploration\n",
    "print(\"First few rows of the dataset:\")\n",
    "print(df.head())\n",
    "\n",
    "print(\"\\nSummary of the dataset:\")\n",
    "print(df.info())\n",
    "\n",
    "print(\"\\nDescriptive statistics of the dataset:\")\n",
    "print(df.describe())\n",
    "\n",
    "# Specific details\n",
    "print(\"\\nNumber of rows and columns:\")\n",
    "print(df.shape)\n",
    "\n",
    "print(\"\\nColumns of the dataset:\")\n",
    "print(df.columns)\n",
    "\n",
    "print(\"\\nData types of columns:\")\n",
    "print(df.dtypes)"
   ]
  },
  {
   "cell_type": "code",
   "execution_count": 13,
   "id": "d3a4b413",
   "metadata": {
    "scrolled": true
   },
   "outputs": [
    {
     "name": "stdout",
     "output_type": "stream",
     "text": [
      "Number of different values in the 'emotion' column: 8\n",
      "\n",
      "Different values and their counts in the 'emotion' column:\n",
      "joy         11045\n",
      "sadness      6722\n",
      "fear         5410\n",
      "anger        4297\n",
      "surprise     4062\n",
      "neutral      2254\n",
      "disgust       856\n",
      "shame         146\n",
      "Name: Emotion, dtype: int64\n"
     ]
    }
   ],
   "source": [
    "# Assuming 'emotion' is the name of the column containing emotions in your DataFrame 'df'\n",
    "emotion_counts = df['Emotion'].value_counts()\n",
    "\n",
    "# Print the count of unique values\n",
    "print(\"Number of different values in the 'emotion' column:\", len(emotion_counts))\n",
    "\n",
    "# Print the unique values along with their counts\n",
    "print(\"\\nDifferent values and their counts in the 'emotion' column:\")\n",
    "print(emotion_counts)"
   ]
  },
  {
   "cell_type": "code",
   "execution_count": 17,
   "id": "eb42f3e2",
   "metadata": {},
   "outputs": [],
   "source": [
    "# Check the number of null values in each column\n",
    "null_counts = df.isnull().sum()"
   ]
  },
  {
   "cell_type": "code",
   "execution_count": 18,
   "id": "a6d3caff",
   "metadata": {},
   "outputs": [
    {
     "name": "stdout",
     "output_type": "stream",
     "text": [
      "Number of null values in each column:\n",
      "Emotion    0\n",
      "Text       0\n",
      "dtype: int64\n"
     ]
    }
   ],
   "source": [
    "# Print the null counts for each column\n",
    "print(\"Number of null values in each column:\")\n",
    "print(null_counts)"
   ]
  },
  {
   "cell_type": "code",
   "execution_count": 27,
   "id": "6a83420c",
   "metadata": {},
   "outputs": [],
   "source": [
    "# Load the dataset (assuming it's a CSV file named 'dataset.csv')\n",
    "df1 = pd.read_csv('data/datasets/emotion_stimulus.csv')"
   ]
  },
  {
   "cell_type": "code",
   "execution_count": 15,
   "id": "71774f73",
   "metadata": {},
   "outputs": [
    {
     "name": "stdout",
     "output_type": "stream",
     "text": [
      "First few rows of the dataset:\n",
      "  Emotion                                               Text\n",
      "0   happy  I suppose I am happy being so ` tiny' ; it mea...\n",
      "1   happy  Lennox has always truly wanted to fight for th...\n",
      "2   happy  He was a professional musician now , still sen...\n",
      "3   happy  Holmes is happy having the freedom of the hous...\n",
      "4   happy  I had problems with tutors trying to encourage...\n",
      "\n",
      "Summary of the dataset:\n",
      "<class 'pandas.core.frame.DataFrame'>\n",
      "RangeIndex: 2414 entries, 0 to 2413\n",
      "Data columns (total 2 columns):\n",
      " #   Column   Non-Null Count  Dtype \n",
      "---  ------   --------------  ----- \n",
      " 0   Emotion  2414 non-null   object\n",
      " 1   Text     2414 non-null   object\n",
      "dtypes: object(2)\n",
      "memory usage: 37.8+ KB\n",
      "None\n",
      "\n",
      "Descriptive statistics of the dataset:\n",
      "       Emotion                                               Text\n",
      "count     2414                                               2414\n",
      "unique       7                                               2407\n",
      "top        sad  His comments are a major diplomatic gaffe as t...\n",
      "freq       575                                                  2\n",
      "\n",
      "Number of rows and columns:\n",
      "(2414, 2)\n",
      "\n",
      "Columns of the dataset:\n",
      "Index(['Emotion', 'Text'], dtype='object')\n",
      "\n",
      "Data types of columns:\n",
      "Emotion    object\n",
      "Text       object\n",
      "dtype: object\n"
     ]
    }
   ],
   "source": [
    "# Basic exploration\n",
    "print(\"First few rows of the dataset:\")\n",
    "print(df1.head())\n",
    "\n",
    "print(\"\\nSummary of the dataset:\")\n",
    "print(df1.info())\n",
    "\n",
    "print(\"\\nDescriptive statistics of the dataset:\")\n",
    "print(df1.describe())\n",
    "\n",
    "# Specific details\n",
    "print(\"\\nNumber of rows and columns:\")\n",
    "print(df1.shape)\n",
    "\n",
    "print(\"\\nColumns of the dataset:\")\n",
    "print(df1.columns)\n",
    "\n",
    "print(\"\\nData types of columns:\")\n",
    "print(df1.dtypes)"
   ]
  },
  {
   "cell_type": "code",
   "execution_count": 16,
   "id": "a683ad48",
   "metadata": {},
   "outputs": [
    {
     "name": "stdout",
     "output_type": "stream",
     "text": [
      "Number of different values in the 'emotion' column: 7\n",
      "\n",
      "Different values and their counts in the 'emotion' column:\n",
      "sad         575\n",
      "anger       483\n",
      "happy       479\n",
      "fear        423\n",
      "surprise    213\n",
      "shame       146\n",
      "disgust      95\n",
      "Name: Emotion, dtype: int64\n"
     ]
    }
   ],
   "source": [
    "# Assuming 'emotion' is the name of the column containing emotions in your DataFrame 'df'\n",
    "emotion_counts = df1['Emotion'].value_counts()\n",
    "\n",
    "# Print the count of unique values\n",
    "print(\"Number of different values in the 'emotion' column:\", len(emotion_counts))\n",
    "\n",
    "# Print the unique values along with their counts\n",
    "print(\"\\nDifferent values and their counts in the 'emotion' column:\")\n",
    "print(emotion_counts)"
   ]
  },
  {
   "cell_type": "code",
   "execution_count": 19,
   "id": "bc12d1a2",
   "metadata": {},
   "outputs": [
    {
     "name": "stdout",
     "output_type": "stream",
     "text": [
      "Number of null values in each column:\n",
      "Emotion    0\n",
      "Text       0\n",
      "dtype: int64\n"
     ]
    }
   ],
   "source": [
    "# Check the number of null values in each column\n",
    "null_counts = df1.isnull().sum()\n",
    "\n",
    "# Print the null counts for each column\n",
    "print(\"Number of null values in each column:\")\n",
    "print(null_counts)\n"
   ]
  },
  {
   "cell_type": "code",
   "execution_count": 20,
   "id": "87e0ef14",
   "metadata": {},
   "outputs": [],
   "source": [
    "# Load the dataset (assuming it's a CSV file named 'dataset.csv')\n",
    "df2 = pd.read_csv('data/datasets/isear.csv')"
   ]
  },
  {
   "cell_type": "code",
   "execution_count": 22,
   "id": "a2f8f715",
   "metadata": {},
   "outputs": [
    {
     "name": "stdout",
     "output_type": "stream",
     "text": [
      "First few rows of the dataset:\n",
      "   Emotion                                               Text\n",
      "0      joy  During the period of falling in love, each tim...\n",
      "1     fear         When I was involved in a traffic accident.\n",
      "2    anger  When I was driving home after  several days of...\n",
      "3  sadness  When I lost the person who meant the most to me. \n",
      "4  disgust  The time I knocked a deer down - the sight of ...\n",
      "\n",
      "Summary of the dataset:\n",
      "<class 'pandas.core.frame.DataFrame'>\n",
      "RangeIndex: 7473 entries, 0 to 7472\n",
      "Data columns (total 2 columns):\n",
      " #   Column   Non-Null Count  Dtype \n",
      "---  ------   --------------  ----- \n",
      " 0   Emotion  7473 non-null   object\n",
      " 1   Text     7473 non-null   object\n",
      "dtypes: object(2)\n",
      "memory usage: 116.9+ KB\n",
      "None\n",
      "\n",
      "Descriptive statistics of the dataset:\n",
      "       Emotion                       Text\n",
      "count     7473                       7473\n",
      "unique       7                       7399\n",
      "top        joy  When my grandfather died.\n",
      "freq      1081                          8\n",
      "\n",
      "Number of rows and columns:\n",
      "(7473, 2)\n",
      "\n",
      "Columns of the dataset:\n",
      "Index(['Emotion', 'Text'], dtype='object')\n",
      "\n",
      "Data types of columns:\n",
      "Emotion    object\n",
      "Text       object\n",
      "dtype: object\n"
     ]
    }
   ],
   "source": [
    "# Basic exploration\n",
    "print(\"First few rows of the dataset:\")\n",
    "print(df2.head())\n",
    "\n",
    "print(\"\\nSummary of the dataset:\")\n",
    "print(df2.info())\n",
    "\n",
    "print(\"\\nDescriptive statistics of the dataset:\")\n",
    "print(df2.describe())\n",
    "\n",
    "# Specific details\n",
    "print(\"\\nNumber of rows and columns:\")\n",
    "print(df2.shape)\n",
    "\n",
    "print(\"\\nColumns of the dataset:\")\n",
    "print(df2.columns)\n",
    "\n",
    "print(\"\\nData types of columns:\")\n",
    "print(df2.dtypes)"
   ]
  },
  {
   "cell_type": "code",
   "execution_count": 23,
   "id": "36e7078a",
   "metadata": {},
   "outputs": [
    {
     "name": "stdout",
     "output_type": "stream",
     "text": [
      "Number of different values in the 'emotion' column: 7\n",
      "\n",
      "Different values and their counts in the 'emotion' column:\n",
      "joy        1081\n",
      "fear       1081\n",
      "anger      1071\n",
      "sadness    1067\n",
      "disgust    1067\n",
      "shame      1054\n",
      "guilt      1052\n",
      "Name: Emotion, dtype: int64\n"
     ]
    }
   ],
   "source": [
    "# Assuming 'emotion' is the name of the column containing emotions in your DataFrame 'df'\n",
    "emotion_counts = df2['Emotion'].value_counts()\n",
    "\n",
    "# Print the count of unique values\n",
    "print(\"Number of different values in the 'emotion' column:\", len(emotion_counts))\n",
    "\n",
    "# Print the unique values along with their counts\n",
    "print(\"\\nDifferent values and their counts in the 'emotion' column:\")\n",
    "print(emotion_counts)"
   ]
  },
  {
   "cell_type": "code",
   "execution_count": 24,
   "id": "50815f09",
   "metadata": {},
   "outputs": [
    {
     "name": "stdout",
     "output_type": "stream",
     "text": [
      "Number of null values in each column:\n",
      "Emotion    0\n",
      "Text       0\n",
      "dtype: int64\n"
     ]
    }
   ],
   "source": [
    "# Check the number of null values in each column\n",
    "null_counts = df2.isnull().sum()\n",
    "\n",
    "# Print the null counts for each column\n",
    "print(\"Number of null values in each column:\")\n",
    "print(null_counts)"
   ]
  },
  {
   "cell_type": "code",
   "execution_count": 25,
   "id": "02420a36",
   "metadata": {},
   "outputs": [
    {
     "name": "stdout",
     "output_type": "stream",
     "text": [
      "Different values and their counts in the 'Emotion' column after mapping:\n",
      "sadness     575\n",
      "anger       483\n",
      "joy         479\n",
      "fear        423\n",
      "surprise    213\n",
      "shame       146\n",
      "disgust      95\n",
      "Name: Emotion, dtype: int64\n"
     ]
    }
   ],
   "source": [
    "# Mapping 'happy' to 'joy' and 'sad' to 'sadness' in df1\n",
    "df1['Emotion'] = df1['Emotion'].replace({'happy': 'joy', 'sad': 'sadness'})\n",
    "\n",
    "# Verify the changes\n",
    "print(\"Different values and their counts in the 'Emotion' column after mapping:\")\n",
    "print(df1['Emotion'].value_counts())\n"
   ]
  },
  {
   "cell_type": "code",
   "execution_count": 26,
   "id": "3fedd24f",
   "metadata": {},
   "outputs": [],
   "source": [
    "# Save the modified DataFrame to a CSV file\n",
    "df1.to_csv('Emotion_stimulus.csv', index=False)"
   ]
  },
  {
   "cell_type": "code",
   "execution_count": 28,
   "id": "9e083855",
   "metadata": {},
   "outputs": [],
   "source": [
    "# Load the datasets\n",
    "df1 = pd.read_csv('data/datasets/emotion_dataset.csv')\n",
    "df2 = pd.read_csv('data/datasets/emotion_stimulus.csv')\n",
    "df3 = pd.read_csv('data/datasets/isear.csv')"
   ]
  },
  {
   "cell_type": "code",
   "execution_count": 29,
   "id": "231f1090",
   "metadata": {},
   "outputs": [],
   "source": [
    "# Concatenate the datasets\n",
    "combined_df = pd.concat([df1, df2, df3], ignore_index=True)"
   ]
  },
  {
   "cell_type": "code",
   "execution_count": 30,
   "id": "5438da7b",
   "metadata": {},
   "outputs": [
    {
     "name": "stdout",
     "output_type": "stream",
     "text": [
      "       Emotion                                               Text\n",
      "0      neutral                                             Why ? \n",
      "1          joy    Sage Act upgrade on my to do list for tommorow.\n",
      "2      sadness  ON THE WAY TO MY HOMEGIRL BABY FUNERAL!!! MAN ...\n",
      "3          joy   Such an eye ! The true hazel eye-and so brill...\n",
      "4          joy  @Iluvmiasantos ugh babe.. hugggzzz for u .!  b...\n",
      "...        ...                                                ...\n",
      "44674    anger  Two years back someone invited me to be the tu...\n",
      "44675  sadness  I had taken the responsibility to do something...\n",
      "44676  disgust  I was at home and I heard a loud sound of spit...\n",
      "44677    shame  I did not do the homework that the teacher had...\n",
      "44678    guilt  I had shouted at my younger brother and he was...\n",
      "\n",
      "[44679 rows x 2 columns]\n"
     ]
    }
   ],
   "source": [
    "# Display the combined dataset\n",
    "print(combined_df)"
   ]
  },
  {
   "cell_type": "code",
   "execution_count": 31,
   "id": "73c52aca",
   "metadata": {},
   "outputs": [],
   "source": [
    "# Save the combined dataset to a CSV file\n",
    "combined_df.to_csv('combined_dataset.csv', index=False)\n"
   ]
  },
  {
   "cell_type": "code",
   "execution_count": 32,
   "id": "2244ce8f",
   "metadata": {},
   "outputs": [
    {
     "name": "stdout",
     "output_type": "stream",
     "text": [
      "First few rows of the dataset:\n",
      "   Emotion                                               Text\n",
      "0  neutral                                             Why ? \n",
      "1      joy    Sage Act upgrade on my to do list for tommorow.\n",
      "2  sadness  ON THE WAY TO MY HOMEGIRL BABY FUNERAL!!! MAN ...\n",
      "3      joy   Such an eye ! The true hazel eye-and so brill...\n",
      "4      joy  @Iluvmiasantos ugh babe.. hugggzzz for u .!  b...\n",
      "\n",
      "Summary of the dataset:\n",
      "<class 'pandas.core.frame.DataFrame'>\n",
      "RangeIndex: 44679 entries, 0 to 44678\n",
      "Data columns (total 2 columns):\n",
      " #   Column   Non-Null Count  Dtype \n",
      "---  ------   --------------  ----- \n",
      " 0   Emotion  44679 non-null  object\n",
      " 1   Text     44679 non-null  object\n",
      "dtypes: object(2)\n",
      "memory usage: 698.2+ KB\n",
      "None\n",
      "\n",
      "Descriptive statistics of the dataset:\n",
      "       Emotion     Text\n",
      "count    44679    44679\n",
      "unique       9    34417\n",
      "top        joy   Yes . \n",
      "freq     12605       76\n",
      "\n",
      "Number of rows and columns:\n",
      "(44679, 2)\n",
      "\n",
      "Columns of the dataset:\n",
      "Index(['Emotion', 'Text'], dtype='object')\n",
      "\n",
      "Data types of columns:\n",
      "Emotion    object\n",
      "Text       object\n",
      "dtype: object\n"
     ]
    }
   ],
   "source": [
    "# Basic exploration\n",
    "print(\"First few rows of the dataset:\")\n",
    "print(combined_df.head())\n",
    "\n",
    "print(\"\\nSummary of the dataset:\")\n",
    "print(combined_df.info())\n",
    "\n",
    "print(\"\\nDescriptive statistics of the dataset:\")\n",
    "print(combined_df.describe())\n",
    "\n",
    "# Specific details\n",
    "print(\"\\nNumber of rows and columns:\")\n",
    "print(combined_df.shape)\n",
    "\n",
    "print(\"\\nColumns of the dataset:\")\n",
    "print(combined_df.columns)\n",
    "\n",
    "print(\"\\nData types of columns:\")\n",
    "print(combined_df.dtypes)"
   ]
  },
  {
   "cell_type": "code",
   "execution_count": 33,
   "id": "8f679f43",
   "metadata": {},
   "outputs": [
    {
     "name": "stdout",
     "output_type": "stream",
     "text": [
      "Number of different values in the 'emotion' column: 9\n",
      "\n",
      "Different values and their counts in the 'emotion' column:\n",
      "joy         12605\n",
      "sadness      8364\n",
      "fear         6914\n",
      "anger        5851\n",
      "surprise     4275\n",
      "neutral      2254\n",
      "disgust      2018\n",
      "shame        1346\n",
      "guilt        1052\n",
      "Name: Emotion, dtype: int64\n"
     ]
    }
   ],
   "source": [
    "# Assuming 'emotion' is the name of the column containing emotions in your DataFrame 'df'\n",
    "emotion_counts = combined_df['Emotion'].value_counts()\n",
    "\n",
    "# Print the count of unique values\n",
    "print(\"Number of different values in the 'emotion' column:\", len(emotion_counts))\n",
    "\n",
    "# Print the unique values along with their counts\n",
    "print(\"\\nDifferent values and their counts in the 'emotion' column:\")\n",
    "print(emotion_counts)"
   ]
  },
  {
   "cell_type": "code",
   "execution_count": 34,
   "id": "5ee50e7a",
   "metadata": {},
   "outputs": [
    {
     "name": "stdout",
     "output_type": "stream",
     "text": [
      "Proportions of each emotion class:\n",
      "joy         28.212359\n",
      "sadness     18.720204\n",
      "fear        15.474832\n",
      "anger       13.095638\n",
      "surprise     9.568254\n",
      "neutral      5.044876\n",
      "disgust      4.516663\n",
      "shame        3.012601\n",
      "guilt        2.354574\n",
      "Name: Emotion, dtype: float64\n"
     ]
    }
   ],
   "source": [
    "# Calculate proportions\n",
    "emotion_counts = combined_df['Emotion'].value_counts(normalize=True) * 100\n",
    "\n",
    "print(\"Proportions of each emotion class:\")\n",
    "print(emotion_counts)\n"
   ]
  },
  {
   "cell_type": "code",
   "execution_count": 48,
   "id": "2eed1692",
   "metadata": {},
   "outputs": [],
   "source": [
    "import pandas as pd\n",
    "from sklearn.model_selection import train_test_split\n",
    "\n",
    "# Load the combined dataset\n",
    "combined_dataset = pd.read_csv('combined_dataset.csv')\n",
    "\n",
    "# Split the dataset into features (X) and labels (y) assuming your labels are in a column named 'label'\n",
    "X = combined_dataset.drop('Emotion', axis=1)\n",
    "y = combined_dataset['Emotion']\n",
    "\n",
    "# Split the dataset into training set (70%) and test set (30%)\n",
    "X_train, X_test, y_train, y_test = train_test_split(X, y, test_size=0.3, random_state=42)\n",
    "\n",
    "# Concatenate features and labels for training and test sets\n",
    "train_set = pd.concat([X_train, y_train], axis=1)\n",
    "test_set = pd.concat([X_test, y_test], axis=1)\n",
    "\n",
    "# Save the training and test sets to CSV files\n",
    "train_set.to_csv('Train.csv', index=False)\n",
    "test_set.to_csv('Test.csv', index=False)\n"
   ]
  },
  {
   "cell_type": "code",
   "execution_count": 49,
   "id": "0056eb3c",
   "metadata": {},
   "outputs": [],
   "source": [
    "# Load the dataset (assuming it's a CSV file named 'dataset.csv')\n",
    "d = pd.read_csv('data/data_train.csv')"
   ]
  },
  {
   "cell_type": "code",
   "execution_count": 50,
   "id": "c53c5f06",
   "metadata": {},
   "outputs": [
    {
     "name": "stdout",
     "output_type": "stream",
     "text": [
      "Number of different values in the 'emotion' column: 5\n",
      "\n",
      "Different values and their counts in the 'emotion' column:\n",
      "sadness    1641\n",
      "joy        1619\n",
      "neutral    1616\n",
      "anger      1566\n",
      "fear       1492\n",
      "Name: Emotion, dtype: int64\n"
     ]
    }
   ],
   "source": [
    "# Assuming 'emotion' is the name of the column containing emotions in your DataFrame 'df'\n",
    "emotion_counts = d['Emotion'].value_counts()\n",
    "\n",
    "# Print the count of unique values\n",
    "print(\"Number of different values in the 'emotion' column:\", len(emotion_counts))\n",
    "\n",
    "# Print the unique values along with their counts\n",
    "print(\"\\nDifferent values and their counts in the 'emotion' column:\")\n",
    "print(emotion_counts)"
   ]
  },
  {
   "cell_type": "code",
   "execution_count": 51,
   "id": "2009c80d",
   "metadata": {},
   "outputs": [],
   "source": [
    "# Load the dataset (assuming it's a CSV file named 'dataset.csv')\n",
    "d = pd.read_csv('data/data_test.csv')"
   ]
  },
  {
   "cell_type": "code",
   "execution_count": 52,
   "id": "bd70f65f",
   "metadata": {},
   "outputs": [
    {
     "name": "stdout",
     "output_type": "stream",
     "text": [
      "Number of different values in the 'emotion' column: 5\n",
      "\n",
      "Different values and their counts in the 'emotion' column:\n",
      "joy        707\n",
      "anger      693\n",
      "fear       679\n",
      "sadness    676\n",
      "neutral    638\n",
      "Name: Emotion, dtype: int64\n"
     ]
    }
   ],
   "source": [
    "# Assuming 'emotion' is the name of the column containing emotions in your DataFrame 'df'\n",
    "emotion_counts = d['Emotion'].value_counts()\n",
    "\n",
    "# Print the count of unique values\n",
    "print(\"Number of different values in the 'emotion' column:\", len(emotion_counts))\n",
    "\n",
    "# Print the unique values along with their counts\n",
    "print(\"\\nDifferent values and their counts in the 'emotion' column:\")\n",
    "print(emotion_counts)"
   ]
  },
  {
   "cell_type": "code",
   "execution_count": 53,
   "id": "e545c89a",
   "metadata": {},
   "outputs": [],
   "source": [
    "# Load the dataset (assuming it's a CSV file named 'dataset.csv')\n",
    "d = pd.read_csv('Test.csv')"
   ]
  },
  {
   "cell_type": "code",
   "execution_count": 54,
   "id": "9ae276c8",
   "metadata": {},
   "outputs": [
    {
     "name": "stdout",
     "output_type": "stream",
     "text": [
      "Number of different values in the 'emotion' column: 9\n",
      "\n",
      "Different values and their counts in the 'emotion' column:\n",
      "joy         3753\n",
      "sadness     2541\n",
      "fear        2109\n",
      "anger       1718\n",
      "surprise    1260\n",
      "neutral      698\n",
      "disgust      593\n",
      "shame        403\n",
      "guilt        329\n",
      "Name: Emotion, dtype: int64\n"
     ]
    }
   ],
   "source": [
    "# Assuming 'emotion' is the name of the column containing emotions in your DataFrame 'df'\n",
    "emotion_counts = d['Emotion'].value_counts()\n",
    "\n",
    "# Print the count of unique values\n",
    "print(\"Number of different values in the 'emotion' column:\", len(emotion_counts))\n",
    "\n",
    "# Print the unique values along with their counts\n",
    "print(\"\\nDifferent values and their counts in the 'emotion' column:\")\n",
    "print(emotion_counts)"
   ]
  },
  {
   "cell_type": "code",
   "execution_count": null,
   "id": "6e0e724e",
   "metadata": {},
   "outputs": [],
   "source": []
  }
 ],
 "metadata": {
  "kernelspec": {
   "display_name": "Python 3 (ipykernel)",
   "language": "python",
   "name": "python3"
  },
  "language_info": {
   "codemirror_mode": {
    "name": "ipython",
    "version": 3
   },
   "file_extension": ".py",
   "mimetype": "text/x-python",
   "name": "python",
   "nbconvert_exporter": "python",
   "pygments_lexer": "ipython3",
   "version": "3.9.12"
  }
 },
 "nbformat": 4,
 "nbformat_minor": 5
}
